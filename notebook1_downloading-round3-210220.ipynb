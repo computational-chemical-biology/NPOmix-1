{
 "cells": [
  {
   "cell_type": "markdown",
   "metadata": {},
   "source": [
    "`Last update at 2021-03-16`\n",
    "\n",
    "# Background\n",
    "\n",
    "## Rounds to test\n",
    "```\n",
    "Round 1: 60 MAGs; 39 MS/MS-BGC links (1 correct link)\n",
    "Round 2: 279 genomes/MAGs; 1 MS/MS-BGC links (0 correct link)\n",
    "Round 3: 279 genomes/MAGs and 589 metagenomes; 16 MS/MS-BGC links (8 correct links)\n",
    "```\n",
    "\n",
    "## Outline\n",
    "\n",
    "```\n",
    "    1) Downloading (meta)genomes and metagenome-assembled genomes (MAGs) that contain a paired untargeted \n",
    "    metabolomics (LC-MS/MS and in the future GC-MS/MS)(metabolomic files also going to be downloaded):\n",
    "    1.1) Downloading all JSON files from PoDP;\n",
    "    1.2) Parsing JSON files and creating podp_merged_df;\n",
    "    1.3) Obtaining uniform Genbank code from BioSample ID; (estimated runtime of 02:46:30)\n",
    "    1.4) Adding new column with the downloaded NCBI IDs;\n",
    "    1.5) Downloading and unzipping the NCBI genomes;\n",
    "    1.6) Copying previously downloaded genomes;\n",
    "    1.7) Downloading metagenomic reads;\n",
    "    1.8) Downloading JGI (meta)genomes;\n",
    "    1.9) Separating Genomes without antiSMASH;\n",
    "    1.10) Running antiSMASH;\n",
    "    1.11) Filtering links for (meta)genomes with antiSMASH and downloading LC-MS/MS.\n",
    "```"
   ]
  },
  {
   "cell_type": "code",
   "execution_count": 1,
   "metadata": {},
   "outputs": [],
   "source": [
    "import pandas as pd\n",
    "import time\n",
    "import glob\n",
    "import numpy as np\n",
    "import csv\n",
    "import subprocess\n",
    "import glob\n",
    "import os\n",
    "import re\n",
    "import networkx\n",
    "from networkx.algorithms.components.connected import connected_components\n",
    "from collections import defaultdict\n",
    "import matplotlib.pyplot as plt\n",
    "from Bio import SeqIO\n",
    "from sklearn.neighbors import KNeighborsClassifier\n",
    "from sklearn.neighbors import NearestNeighbors\n",
    "import pickle\n",
    "import json"
   ]
  },
  {
   "cell_type": "code",
   "execution_count": 2,
   "metadata": {},
   "outputs": [],
   "source": [
    "# !mkdir ./inputs\n",
    "# !mkdir ./outputs/\n",
    "# !mkdir ./temp_files/"
   ]
  },
  {
   "cell_type": "markdown",
   "metadata": {},
   "source": [
    "# 1. Downloading genomes from the Paired omics Data Platform (PoDP)\n",
    "\n",
    "## 1.1. Downloading all JSON files from PoDP\n",
    "\n",
    "```\n",
    "Go to PoDP (https://pairedomicsdata.bioinformatics.nl) and download the database JSON files, move files to \n",
    "input folder (path/to/NPOmix/inputs/databases/).\n",
    "```"
   ]
  },
  {
   "cell_type": "markdown",
   "metadata": {},
   "source": [
    "## 1.2. Parsing JSON files and creating podp_merged_df"
   ]
  },
  {
   "cell_type": "code",
   "execution_count": 3,
   "metadata": {},
   "outputs": [],
   "source": [
    "def get_strain_dicts(filename):\n",
    "    strain_gbk_dict = {}\n",
    "    strain_biosample_dict = {}\n",
    "    strain_db_dict = {}\n",
    "    strain_to_shotgun = {}\n",
    "    with open(filename) as f:\n",
    "        data1 = json.load(f)\n",
    "        if 'message' not in data1.keys():\n",
    "            data1 = data1['genomes']\n",
    "            json_df1 = pd.DataFrame(data1)\n",
    "            for i,r in json_df1.iterrows():\n",
    "                genome_line = dict(json_df1['genome_ID'].loc[i])\n",
    "                if 'ENA_NCBI_accession' in genome_line.keys():\n",
    "                    genomeID = genome_line['ENA_NCBI_accession']\n",
    "                    db_id = 'ENA_NCBI_accession'\n",
    "                if 'GenBank_accession' in genome_line.keys():\n",
    "                    genomeID = genome_line['GenBank_accession']\n",
    "                    db_id = 'GenBank_accession'\n",
    "                if 'RefSeq_accession' in genome_line.keys():\n",
    "                    genomeID = genome_line['RefSeq_accession']\n",
    "                    db_id = 'RefSeq_accession'\n",
    "                if 'JGI_Genome_ID' in genome_line.keys():\n",
    "                    genomeID = genome_line['JGI_Genome_ID']\n",
    "                    db_id = 'JGI_Genome_ID'\n",
    "                if 'JGI_ID' in genome_line.keys():\n",
    "                    genomeID = genome_line['JGI_ID']\n",
    "                    db_id = 'JGI_ID'\n",
    "                if 'JGI_IMG_genome_ID'in genome_line.keys():\n",
    "                    genomeID = genome_line['JGI_IMG_genome_ID']\n",
    "                    db_id = 'JGI_IMG_genome_ID'\n",
    "                strain_to_shotgun[json_df1['genome_label'].loc[i]] = genome_line['genome_type']\n",
    "                strain_gbk_dict[json_df1['genome_label'].loc[i]] = genomeID\n",
    "                strain_db_dict[json_df1['genome_label'].loc[i]] = db_id\n",
    "                if 'BioSample_accession' in json_df1.columns:\n",
    "                    strain_biosample_dict[json_df1['genome_label'].loc[i]] = json_df1['BioSample_accession'].loc[i]\n",
    "                else:\n",
    "                    strain_biosample_dict[json_df1['genome_label'].loc[i]] = 'No BioSample'\n",
    "    return strain_gbk_dict,strain_biosample_dict,strain_db_dict,strain_to_shotgun\n",
    "\n",
    "def get_paired_df(filename,strain_gbk_dict,strain_biosample_dict,strain_db_dict,strain_to_shotgun):\n",
    "    col1,col2,col3,col4,col5,col6 = [],[],[],[],[],[]\n",
    "    with open(filename) as f:\n",
    "        data2 = json.load(f)['genome_metabolome_links']\n",
    "        json_df2 = pd.DataFrame(data2)\n",
    "        for i,r in json_df2.iterrows():\n",
    "            col1.append(strain_gbk_dict[json_df2['genome_label'].loc[i]])\n",
    "            col2.append(strain_db_dict[json_df2['genome_label'].loc[i]])\n",
    "            col3.append(strain_biosample_dict[json_df2['genome_label'].loc[i]])\n",
    "            col4.append(json_df2['metabolomics_file'].loc[i])\n",
    "            col5.append(json_df2['genome_label'].loc[i])\n",
    "            col6.append(strain_to_shotgun[json_df2['genome_label'].loc[i]])\n",
    "    frames = {'NCBI_ID':col1, 'Database':col2, 'BioSample':col3, \n",
    "              'LCMS_file':col4, 'Genome_label':col5, 'Method':col6}\n",
    "    paired_df = pd.DataFrame(frames)\n",
    "    return paired_df"
   ]
  },
  {
   "cell_type": "code",
   "execution_count": 4,
   "metadata": {},
   "outputs": [
    {
     "data": {
      "text/html": [
       "<div>\n",
       "<style scoped>\n",
       "    .dataframe tbody tr th:only-of-type {\n",
       "        vertical-align: middle;\n",
       "    }\n",
       "\n",
       "    .dataframe tbody tr th {\n",
       "        vertical-align: top;\n",
       "    }\n",
       "\n",
       "    .dataframe thead th {\n",
       "        text-align: right;\n",
       "    }\n",
       "</style>\n",
       "<table border=\"1\" class=\"dataframe\">\n",
       "  <thead>\n",
       "    <tr style=\"text-align: right;\">\n",
       "      <th></th>\n",
       "      <th>NCBI_ID</th>\n",
       "      <th>Database</th>\n",
       "      <th>BioSample</th>\n",
       "      <th>LCMS_file</th>\n",
       "      <th>Genome_label</th>\n",
       "      <th>Method</th>\n",
       "    </tr>\n",
       "  </thead>\n",
       "  <tbody>\n",
       "    <tr>\n",
       "      <th>0</th>\n",
       "      <td>GCA_000240165.1</td>\n",
       "      <td>RefSeq_accession</td>\n",
       "      <td>SAMN02603879</td>\n",
       "      <td>ftp://massive.ucsd.edu/MSV000078850/results/S....</td>\n",
       "      <td>S. cattleya</td>\n",
       "      <td>genome</td>\n",
       "    </tr>\n",
       "    <tr>\n",
       "      <th>1</th>\n",
       "      <td>GCA_000240165.1</td>\n",
       "      <td>RefSeq_accession</td>\n",
       "      <td>SAMN02603879</td>\n",
       "      <td>ftp://massive.ucsd.edu/MSV000078850/results/S....</td>\n",
       "      <td>S. cattleya</td>\n",
       "      <td>genome</td>\n",
       "    </tr>\n",
       "    <tr>\n",
       "      <th>2</th>\n",
       "      <td>GCA_000240165.1</td>\n",
       "      <td>RefSeq_accession</td>\n",
       "      <td>SAMN02603879</td>\n",
       "      <td>ftp://massive.ucsd.edu/MSV000078850/results/S....</td>\n",
       "      <td>S. cattleya</td>\n",
       "      <td>genome</td>\n",
       "    </tr>\n",
       "    <tr>\n",
       "      <th>3</th>\n",
       "      <td>GCA_000240165.1</td>\n",
       "      <td>RefSeq_accession</td>\n",
       "      <td>SAMN02603879</td>\n",
       "      <td>ftp://massive.ucsd.edu/MSV000078850/results/S....</td>\n",
       "      <td>S. cattleya</td>\n",
       "      <td>genome</td>\n",
       "    </tr>\n",
       "    <tr>\n",
       "      <th>4</th>\n",
       "      <td>GCA_000240165.1</td>\n",
       "      <td>RefSeq_accession</td>\n",
       "      <td>SAMN02603879</td>\n",
       "      <td>ftp://massive.ucsd.edu/MSV000078850/results/S....</td>\n",
       "      <td>S. cattleya</td>\n",
       "      <td>genome</td>\n",
       "    </tr>\n",
       "    <tr>\n",
       "      <th>...</th>\n",
       "      <td>...</td>\n",
       "      <td>...</td>\n",
       "      <td>...</td>\n",
       "      <td>...</td>\n",
       "      <td>...</td>\n",
       "      <td>...</td>\n",
       "    </tr>\n",
       "    <tr>\n",
       "      <th>4891</th>\n",
       "      <td>GCA_000286575.1</td>\n",
       "      <td>GenBank_accession</td>\n",
       "      <td>SAMN00255227</td>\n",
       "      <td>ftp://massive.ucsd.edu/MSV000084945/ccms_peak/...</td>\n",
       "      <td>Burkholderia multivorans CF2</td>\n",
       "      <td>genome</td>\n",
       "    </tr>\n",
       "    <tr>\n",
       "      <th>4892</th>\n",
       "      <td>GCA_000959505.1</td>\n",
       "      <td>GenBank_accession</td>\n",
       "      <td>SAMN03144971</td>\n",
       "      <td>ftp://massive.ucsd.edu/MSV000084945/ccms_peak/...</td>\n",
       "      <td>Burkholderia dolosa AU0158</td>\n",
       "      <td>genome</td>\n",
       "    </tr>\n",
       "    <tr>\n",
       "      <th>4893</th>\n",
       "      <td>GCA_000959505.1</td>\n",
       "      <td>GenBank_accession</td>\n",
       "      <td>SAMN03144971</td>\n",
       "      <td>ftp://massive.ucsd.edu/MSV000084945/ccms_peak/...</td>\n",
       "      <td>Burkholderia dolosa AU0158</td>\n",
       "      <td>genome</td>\n",
       "    </tr>\n",
       "    <tr>\n",
       "      <th>4894</th>\n",
       "      <td>GCA_003568605.1</td>\n",
       "      <td>GenBank_accession</td>\n",
       "      <td>SAMN02866398</td>\n",
       "      <td>ftp://massive.ucsd.edu/MSV000084945/ccms_peak/...</td>\n",
       "      <td>Burkholderia thailandensis E264</td>\n",
       "      <td>genome</td>\n",
       "    </tr>\n",
       "    <tr>\n",
       "      <th>4895</th>\n",
       "      <td>GCA_003568605.1</td>\n",
       "      <td>GenBank_accession</td>\n",
       "      <td>SAMN02866398</td>\n",
       "      <td>ftp://massive.ucsd.edu/MSV000084945/ccms_peak/...</td>\n",
       "      <td>Burkholderia thailandensis E264</td>\n",
       "      <td>genome</td>\n",
       "    </tr>\n",
       "  </tbody>\n",
       "</table>\n",
       "<p>4896 rows × 6 columns</p>\n",
       "</div>"
      ],
      "text/plain": [
       "              NCBI_ID           Database     BioSample  \\\n",
       "0     GCA_000240165.1   RefSeq_accession  SAMN02603879   \n",
       "1     GCA_000240165.1   RefSeq_accession  SAMN02603879   \n",
       "2     GCA_000240165.1   RefSeq_accession  SAMN02603879   \n",
       "3     GCA_000240165.1   RefSeq_accession  SAMN02603879   \n",
       "4     GCA_000240165.1   RefSeq_accession  SAMN02603879   \n",
       "...               ...                ...           ...   \n",
       "4891  GCA_000286575.1  GenBank_accession  SAMN00255227   \n",
       "4892  GCA_000959505.1  GenBank_accession  SAMN03144971   \n",
       "4893  GCA_000959505.1  GenBank_accession  SAMN03144971   \n",
       "4894  GCA_003568605.1  GenBank_accession  SAMN02866398   \n",
       "4895  GCA_003568605.1  GenBank_accession  SAMN02866398   \n",
       "\n",
       "                                              LCMS_file  \\\n",
       "0     ftp://massive.ucsd.edu/MSV000078850/results/S....   \n",
       "1     ftp://massive.ucsd.edu/MSV000078850/results/S....   \n",
       "2     ftp://massive.ucsd.edu/MSV000078850/results/S....   \n",
       "3     ftp://massive.ucsd.edu/MSV000078850/results/S....   \n",
       "4     ftp://massive.ucsd.edu/MSV000078850/results/S....   \n",
       "...                                                 ...   \n",
       "4891  ftp://massive.ucsd.edu/MSV000084945/ccms_peak/...   \n",
       "4892  ftp://massive.ucsd.edu/MSV000084945/ccms_peak/...   \n",
       "4893  ftp://massive.ucsd.edu/MSV000084945/ccms_peak/...   \n",
       "4894  ftp://massive.ucsd.edu/MSV000084945/ccms_peak/...   \n",
       "4895  ftp://massive.ucsd.edu/MSV000084945/ccms_peak/...   \n",
       "\n",
       "                         Genome_label  Method  \n",
       "0                         S. cattleya  genome  \n",
       "1                         S. cattleya  genome  \n",
       "2                         S. cattleya  genome  \n",
       "3                         S. cattleya  genome  \n",
       "4                         S. cattleya  genome  \n",
       "...                               ...     ...  \n",
       "4891     Burkholderia multivorans CF2  genome  \n",
       "4892       Burkholderia dolosa AU0158  genome  \n",
       "4893       Burkholderia dolosa AU0158  genome  \n",
       "4894  Burkholderia thailandensis E264  genome  \n",
       "4895  Burkholderia thailandensis E264  genome  \n",
       "\n",
       "[4896 rows x 6 columns]"
      ]
     },
     "execution_count": 4,
     "metadata": {},
     "output_type": "execute_result"
    }
   ],
   "source": [
    "table_list = glob.glob('./inputs/PoDP_datasets/*.json')\n",
    "\n",
    "for filename in table_list:\n",
    "    strain_gbk_dict,strain_biosample_dict,strain_db_dict,strain_to_shotgun = get_strain_dicts(filename)\n",
    "    if strain_gbk_dict:\n",
    "        if filename == table_list[0]:\n",
    "            podp_merged_df = get_paired_df(filename,strain_gbk_dict,strain_biosample_dict,strain_db_dict,strain_to_shotgun)\n",
    "        else:\n",
    "            paired_df = get_paired_df(filename,strain_gbk_dict,strain_biosample_dict,strain_db_dict,strain_to_shotgun)\n",
    "            frames = [podp_merged_df,paired_df]\n",
    "            podp_merged_df = pd.concat(frames)\n",
    "        \n",
    "podp_merged_df = podp_merged_df.reset_index(drop=True)\n",
    "\n",
    "podp_merged_df"
   ]
  },
  {
   "cell_type": "code",
   "execution_count": 5,
   "metadata": {},
   "outputs": [
    {
     "data": {
      "text/plain": [
       "71"
      ]
     },
     "execution_count": 5,
     "metadata": {},
     "output_type": "execute_result"
    }
   ],
   "source": [
    "len(table_list) ### contain all online datasets"
   ]
  },
  {
   "cell_type": "code",
   "execution_count": 6,
   "metadata": {},
   "outputs": [],
   "source": [
    "online_massive = ['MTBLS1606','MSV000086050','MSV000085589','MSV000085586','MSV000085376','MSV000085214','MSV000085210','MSV000085192','MSV000085180','MSV000085179','MSV000085159','MSV000085158','MSV000085141','MSV000085123','MSV000085085','MSV000085038','MSV000085032','MSV000085031','MSV000085027','MSV000085026','MSV000085023','MSV000085021','MSV000085018','MSV000085003','MSV000085000','MSV000084989','MSV000084954','MSV000084950','MSV000084950','MSV000084945','MSV000084884','MSV000084781','MSV000084771','MSV000084723','MSV000084674','MSV000084475','MSV000084475','MSV000084117','MSV000083835','MSV000083734','MSV000083648','MSV000083387','MSV000083302','MSV000083295','MSV000083268','MSV000083081','MSV000082988','MSV000082969','MSV000082891','MSV000082831','MSV000082285','MSV000082045','MSV000081832','MSV000081504','MSV000081318','MSV000081063','MSV000080427','MSV000080251','MSV000080179','MSV000079519','MSV000079284','MSV000079139','MSV000079015','MSV000078995','MSV000078891','MSV000078850','MSV000078847','MSV000078839','MSV000078836','MSV000078667','MSV000078556']"
   ]
  },
  {
   "cell_type": "code",
   "execution_count": 7,
   "metadata": {},
   "outputs": [],
   "source": [
    "downloaded_massive = []\n",
    "\n",
    "for item in podp_merged_df['LCMS_file']:\n",
    "    if 'MSV' in item:\n",
    "        if 'ftp://maftp' in item:\n",
    "            downloaded_massive.append(item[31:43])\n",
    "        else:\n",
    "            downloaded_massive.append(item[23:35])\n",
    "    if 'MTBLS' in item:\n",
    "        downloaded_massive.append(item[35:])\n",
    "    \n",
    "downloaded_massive = list(np.unique(downloaded_massive))\n",
    "\n",
    "for item in online_massive:\n",
    "    if item not in downloaded_massive:\n",
    "        print(item)\n",
    "### we downloaded and processed all datasets (69 unique and 71 total MassIVE/Metabolights IDs)"
   ]
  },
  {
   "cell_type": "code",
   "execution_count": 8,
   "metadata": {
    "scrolled": true
   },
   "outputs": [
    {
     "data": {
      "text/plain": [
       "(2289, 4896)"
      ]
     },
     "execution_count": 8,
     "metadata": {},
     "output_type": "execute_result"
    }
   ],
   "source": [
    "len(np.unique(podp_merged_df['NCBI_ID'])),len(podp_merged_df)\n",
    "### unique genomes and total number of links (the second matches the online record)"
   ]
  },
  {
   "cell_type": "code",
   "execution_count": 9,
   "metadata": {},
   "outputs": [
    {
     "data": {
      "text/plain": [
       "799"
      ]
     },
     "execution_count": 9,
     "metadata": {},
     "output_type": "execute_result"
    }
   ],
   "source": [
    "len(podp_merged_df[podp_merged_df['BioSample'] == 'No BioSample'])"
   ]
  },
  {
   "cell_type": "code",
   "execution_count": 10,
   "metadata": {},
   "outputs": [
    {
     "data": {
      "text/plain": [
       "1677"
      ]
     },
     "execution_count": 10,
     "metadata": {},
     "output_type": "execute_result"
    }
   ],
   "source": [
    "len(np.unique(podp_merged_df[podp_merged_df['BioSample'] != 'No BioSample']['BioSample']))"
   ]
  },
  {
   "cell_type": "code",
   "execution_count": 11,
   "metadata": {},
   "outputs": [
    {
     "data": {
      "text/plain": [
       "2476"
      ]
     },
     "execution_count": 11,
     "metadata": {},
     "output_type": "execute_result"
    }
   ],
   "source": [
    "799+1677"
   ]
  },
  {
   "cell_type": "code",
   "execution_count": 12,
   "metadata": {
    "scrolled": true
   },
   "outputs": [
    {
     "name": "stdout",
     "output_type": "stream",
     "text": [
      "ENA_NCBI_accession 1298\n",
      "GenBank_accession 2107\n",
      "JGI_Genome_ID 765\n",
      "JGI_ID 2\n",
      "JGI_IMG_genome_ID 612\n",
      "RefSeq_accession 112\n"
     ]
    }
   ],
   "source": [
    "for item in np.unique(podp_merged_df['Database']):\n",
    "    print(item, len(podp_merged_df[podp_merged_df['Database'] == item]['NCBI_ID']))"
   ]
  },
  {
   "cell_type": "code",
   "execution_count": 13,
   "metadata": {},
   "outputs": [
    {
     "name": "stdout",
     "output_type": "stream",
     "text": [
      "genome 3456\n",
      "metagenome 1306\n",
      "metagenome-assembled genome 134\n"
     ]
    }
   ],
   "source": [
    "for item in np.unique(podp_merged_df['Method']):\n",
    "    print(item, len(podp_merged_df[podp_merged_df['Method'] == item]['NCBI_ID']))"
   ]
  },
  {
   "cell_type": "markdown",
   "metadata": {},
   "source": [
    "## 1.3. Obtaining uniform Genbank code from BioSample ID\n",
    "\n",
    "```\n",
    "Separating JGI/ENA IDs from NCBI genomes, these will be downloaded in another step, for now we'll focus on NCBI genomes\n",
    "```"
   ]
  },
  {
   "cell_type": "code",
   "execution_count": 14,
   "metadata": {},
   "outputs": [
    {
     "data": {
      "text/html": [
       "<div>\n",
       "<style scoped>\n",
       "    .dataframe tbody tr th:only-of-type {\n",
       "        vertical-align: middle;\n",
       "    }\n",
       "\n",
       "    .dataframe tbody tr th {\n",
       "        vertical-align: top;\n",
       "    }\n",
       "\n",
       "    .dataframe thead th {\n",
       "        text-align: right;\n",
       "    }\n",
       "</style>\n",
       "<table border=\"1\" class=\"dataframe\">\n",
       "  <thead>\n",
       "    <tr style=\"text-align: right;\">\n",
       "      <th></th>\n",
       "      <th>NCBI_ID</th>\n",
       "      <th>Database</th>\n",
       "      <th>BioSample</th>\n",
       "      <th>LCMS_file</th>\n",
       "      <th>Genome_label</th>\n",
       "      <th>Method</th>\n",
       "    </tr>\n",
       "  </thead>\n",
       "  <tbody>\n",
       "    <tr>\n",
       "      <th>0</th>\n",
       "      <td>GCA_000240165.1</td>\n",
       "      <td>RefSeq_accession</td>\n",
       "      <td>SAMN02603879</td>\n",
       "      <td>ftp://massive.ucsd.edu/MSV000078850/results/S....</td>\n",
       "      <td>S. cattleya</td>\n",
       "      <td>genome</td>\n",
       "    </tr>\n",
       "    <tr>\n",
       "      <th>1</th>\n",
       "      <td>GCA_000240165.1</td>\n",
       "      <td>RefSeq_accession</td>\n",
       "      <td>SAMN02603879</td>\n",
       "      <td>ftp://massive.ucsd.edu/MSV000078850/results/S....</td>\n",
       "      <td>S. cattleya</td>\n",
       "      <td>genome</td>\n",
       "    </tr>\n",
       "    <tr>\n",
       "      <th>2</th>\n",
       "      <td>GCA_000240165.1</td>\n",
       "      <td>RefSeq_accession</td>\n",
       "      <td>SAMN02603879</td>\n",
       "      <td>ftp://massive.ucsd.edu/MSV000078850/results/S....</td>\n",
       "      <td>S. cattleya</td>\n",
       "      <td>genome</td>\n",
       "    </tr>\n",
       "    <tr>\n",
       "      <th>3</th>\n",
       "      <td>GCA_000240165.1</td>\n",
       "      <td>RefSeq_accession</td>\n",
       "      <td>SAMN02603879</td>\n",
       "      <td>ftp://massive.ucsd.edu/MSV000078850/results/S....</td>\n",
       "      <td>S. cattleya</td>\n",
       "      <td>genome</td>\n",
       "    </tr>\n",
       "    <tr>\n",
       "      <th>4</th>\n",
       "      <td>GCA_000240165.1</td>\n",
       "      <td>RefSeq_accession</td>\n",
       "      <td>SAMN02603879</td>\n",
       "      <td>ftp://massive.ucsd.edu/MSV000078850/results/S....</td>\n",
       "      <td>S. cattleya</td>\n",
       "      <td>genome</td>\n",
       "    </tr>\n",
       "    <tr>\n",
       "      <th>...</th>\n",
       "      <td>...</td>\n",
       "      <td>...</td>\n",
       "      <td>...</td>\n",
       "      <td>...</td>\n",
       "      <td>...</td>\n",
       "      <td>...</td>\n",
       "    </tr>\n",
       "    <tr>\n",
       "      <th>2115</th>\n",
       "      <td>GCA_000286575.1</td>\n",
       "      <td>GenBank_accession</td>\n",
       "      <td>SAMN00255227</td>\n",
       "      <td>ftp://massive.ucsd.edu/MSV000084945/ccms_peak/...</td>\n",
       "      <td>Burkholderia multivorans CF2</td>\n",
       "      <td>genome</td>\n",
       "    </tr>\n",
       "    <tr>\n",
       "      <th>2116</th>\n",
       "      <td>GCA_000959505.1</td>\n",
       "      <td>GenBank_accession</td>\n",
       "      <td>SAMN03144971</td>\n",
       "      <td>ftp://massive.ucsd.edu/MSV000084945/ccms_peak/...</td>\n",
       "      <td>Burkholderia dolosa AU0158</td>\n",
       "      <td>genome</td>\n",
       "    </tr>\n",
       "    <tr>\n",
       "      <th>2117</th>\n",
       "      <td>GCA_000959505.1</td>\n",
       "      <td>GenBank_accession</td>\n",
       "      <td>SAMN03144971</td>\n",
       "      <td>ftp://massive.ucsd.edu/MSV000084945/ccms_peak/...</td>\n",
       "      <td>Burkholderia dolosa AU0158</td>\n",
       "      <td>genome</td>\n",
       "    </tr>\n",
       "    <tr>\n",
       "      <th>2118</th>\n",
       "      <td>GCA_003568605.1</td>\n",
       "      <td>GenBank_accession</td>\n",
       "      <td>SAMN02866398</td>\n",
       "      <td>ftp://massive.ucsd.edu/MSV000084945/ccms_peak/...</td>\n",
       "      <td>Burkholderia thailandensis E264</td>\n",
       "      <td>genome</td>\n",
       "    </tr>\n",
       "    <tr>\n",
       "      <th>2119</th>\n",
       "      <td>GCA_003568605.1</td>\n",
       "      <td>GenBank_accession</td>\n",
       "      <td>SAMN02866398</td>\n",
       "      <td>ftp://massive.ucsd.edu/MSV000084945/ccms_peak/...</td>\n",
       "      <td>Burkholderia thailandensis E264</td>\n",
       "      <td>genome</td>\n",
       "    </tr>\n",
       "  </tbody>\n",
       "</table>\n",
       "<p>2120 rows × 6 columns</p>\n",
       "</div>"
      ],
      "text/plain": [
       "              NCBI_ID           Database     BioSample  \\\n",
       "0     GCA_000240165.1   RefSeq_accession  SAMN02603879   \n",
       "1     GCA_000240165.1   RefSeq_accession  SAMN02603879   \n",
       "2     GCA_000240165.1   RefSeq_accession  SAMN02603879   \n",
       "3     GCA_000240165.1   RefSeq_accession  SAMN02603879   \n",
       "4     GCA_000240165.1   RefSeq_accession  SAMN02603879   \n",
       "...               ...                ...           ...   \n",
       "2115  GCA_000286575.1  GenBank_accession  SAMN00255227   \n",
       "2116  GCA_000959505.1  GenBank_accession  SAMN03144971   \n",
       "2117  GCA_000959505.1  GenBank_accession  SAMN03144971   \n",
       "2118  GCA_003568605.1  GenBank_accession  SAMN02866398   \n",
       "2119  GCA_003568605.1  GenBank_accession  SAMN02866398   \n",
       "\n",
       "                                              LCMS_file  \\\n",
       "0     ftp://massive.ucsd.edu/MSV000078850/results/S....   \n",
       "1     ftp://massive.ucsd.edu/MSV000078850/results/S....   \n",
       "2     ftp://massive.ucsd.edu/MSV000078850/results/S....   \n",
       "3     ftp://massive.ucsd.edu/MSV000078850/results/S....   \n",
       "4     ftp://massive.ucsd.edu/MSV000078850/results/S....   \n",
       "...                                                 ...   \n",
       "2115  ftp://massive.ucsd.edu/MSV000084945/ccms_peak/...   \n",
       "2116  ftp://massive.ucsd.edu/MSV000084945/ccms_peak/...   \n",
       "2117  ftp://massive.ucsd.edu/MSV000084945/ccms_peak/...   \n",
       "2118  ftp://massive.ucsd.edu/MSV000084945/ccms_peak/...   \n",
       "2119  ftp://massive.ucsd.edu/MSV000084945/ccms_peak/...   \n",
       "\n",
       "                         Genome_label  Method  \n",
       "0                         S. cattleya  genome  \n",
       "1                         S. cattleya  genome  \n",
       "2                         S. cattleya  genome  \n",
       "3                         S. cattleya  genome  \n",
       "4                         S. cattleya  genome  \n",
       "...                               ...     ...  \n",
       "2115     Burkholderia multivorans CF2  genome  \n",
       "2116       Burkholderia dolosa AU0158  genome  \n",
       "2117       Burkholderia dolosa AU0158  genome  \n",
       "2118  Burkholderia thailandensis E264  genome  \n",
       "2119  Burkholderia thailandensis E264  genome  \n",
       "\n",
       "[2120 rows x 6 columns]"
      ]
     },
     "execution_count": 14,
     "metadata": {},
     "output_type": "execute_result"
    }
   ],
   "source": [
    "filtered_df = podp_merged_df[podp_merged_df['Database'] != 'JGI_IMG_genome_ID']\n",
    "filtered_df = filtered_df[filtered_df['Database'] != 'JGI_Genome_ID']\n",
    "filtered_df = filtered_df[filtered_df['Database'] != 'JGI_ID']\n",
    "filtered_df = filtered_df[filtered_df['Database'] != 'ENA_NCBI_accession']\n",
    "filtered_df = filtered_df[filtered_df['BioSample'] != 'No BioSample']\n",
    "filtered_df = filtered_df.reset_index(drop=True)\n",
    "\n",
    "filtered_df"
   ]
  },
  {
   "cell_type": "code",
   "execution_count": 15,
   "metadata": {},
   "outputs": [],
   "source": [
    "### only run once\n",
    "\n",
    "with open('./temp_files/genome_list_temp.txt', \"w\") as output:\n",
    "    writer = csv.writer(output, lineterminator='\\n')\n",
    "    for val in list(filtered_df['NCBI_ID']):\n",
    "        writer.writerow([val])\n",
    "        \n",
    "with open('./temp_files/biosample_list_temp.txt', \"w\") as output:\n",
    "    writer = csv.writer(output, lineterminator='\\n')\n",
    "    for val in list(filtered_df['BioSample']):\n",
    "        writer.writerow([val])"
   ]
  },
  {
   "cell_type": "code",
   "execution_count": 16,
   "metadata": {},
   "outputs": [],
   "source": [
    "### only run once\n",
    "\n",
    "# start = time.time()\n",
    "\n",
    "# subprocess.call('python NCBI_getGenBankID.py --input ./temp_files/biosample_list_temp.txt --output ./outputs/biosample_list-round3-210220.out.csv', shell=True)\n",
    "\n",
    "# end = time.time()\n",
    "# hours, rem = divmod(end-start, 3600)\n",
    "# minutes, seconds = divmod(rem, 60)\n",
    "# print(\"{:0>2}:{:0>2}:{:05.2f}\".format(int(hours),int(minutes),seconds))\n",
    "### 02:46:30.68"
   ]
  },
  {
   "cell_type": "code",
   "execution_count": 17,
   "metadata": {},
   "outputs": [
    {
     "data": {
      "text/html": [
       "<div>\n",
       "<style scoped>\n",
       "    .dataframe tbody tr th:only-of-type {\n",
       "        vertical-align: middle;\n",
       "    }\n",
       "\n",
       "    .dataframe tbody tr th {\n",
       "        vertical-align: top;\n",
       "    }\n",
       "\n",
       "    .dataframe thead th {\n",
       "        text-align: right;\n",
       "    }\n",
       "</style>\n",
       "<table border=\"1\" class=\"dataframe\">\n",
       "  <thead>\n",
       "    <tr style=\"text-align: right;\">\n",
       "      <th></th>\n",
       "      <th>Accession_id</th>\n",
       "      <th>Assembly_id</th>\n",
       "      <th>GenBank_id</th>\n",
       "      <th>Refseq_id</th>\n",
       "    </tr>\n",
       "  </thead>\n",
       "  <tbody>\n",
       "    <tr>\n",
       "      <th>0</th>\n",
       "      <td>SAMN02603879</td>\n",
       "      <td>376848</td>\n",
       "      <td>GCA_000240165.1</td>\n",
       "      <td>GCF_000240165.1</td>\n",
       "    </tr>\n",
       "    <tr>\n",
       "      <th>1</th>\n",
       "      <td>SAMN14411170</td>\n",
       "      <td>6465981</td>\n",
       "      <td>GCA_011765705.1</td>\n",
       "      <td>NaN</td>\n",
       "    </tr>\n",
       "    <tr>\n",
       "      <th>2</th>\n",
       "      <td>SAMN14411171</td>\n",
       "      <td>6466001</td>\n",
       "      <td>GCA_011765735.1</td>\n",
       "      <td>NaN</td>\n",
       "    </tr>\n",
       "    <tr>\n",
       "      <th>3</th>\n",
       "      <td>SAMD00106498</td>\n",
       "      <td>2168011</td>\n",
       "      <td>GCA_003945305.1</td>\n",
       "      <td>GCF_003945305.1</td>\n",
       "    </tr>\n",
       "    <tr>\n",
       "      <th>4</th>\n",
       "      <td>SAMN05710194</td>\n",
       "      <td>1533101</td>\n",
       "      <td>GCA_002897315.1</td>\n",
       "      <td>GCF_002897315.1</td>\n",
       "    </tr>\n",
       "    <tr>\n",
       "      <th>...</th>\n",
       "      <td>...</td>\n",
       "      <td>...</td>\n",
       "      <td>...</td>\n",
       "      <td>...</td>\n",
       "    </tr>\n",
       "    <tr>\n",
       "      <th>232</th>\n",
       "      <td>SAMN03144971</td>\n",
       "      <td>315111</td>\n",
       "      <td>GCA_000959505.1</td>\n",
       "      <td>GCF_000959505.1</td>\n",
       "    </tr>\n",
       "    <tr>\n",
       "      <th>233</th>\n",
       "      <td>SAMN00623032</td>\n",
       "      <td>39588</td>\n",
       "      <td>GCA_000018505.1</td>\n",
       "      <td>GCF_000018505.1</td>\n",
       "    </tr>\n",
       "    <tr>\n",
       "      <th>234</th>\n",
       "      <td>SAMN03140189</td>\n",
       "      <td>315121</td>\n",
       "      <td>GCA_000959525.1</td>\n",
       "      <td>GCF_000959525.1</td>\n",
       "    </tr>\n",
       "    <tr>\n",
       "      <th>235</th>\n",
       "      <td>SAMN00255227</td>\n",
       "      <td>492528</td>\n",
       "      <td>GCA_000286575.1</td>\n",
       "      <td>GCF_000286575.1</td>\n",
       "    </tr>\n",
       "    <tr>\n",
       "      <th>236</th>\n",
       "      <td>SAMN02866398</td>\n",
       "      <td>1978921</td>\n",
       "      <td>GCA_003568605.1</td>\n",
       "      <td>GCF_003568605.1</td>\n",
       "    </tr>\n",
       "  </tbody>\n",
       "</table>\n",
       "<p>237 rows × 4 columns</p>\n",
       "</div>"
      ],
      "text/plain": [
       "     Accession_id Assembly_id       GenBank_id        Refseq_id\n",
       "0    SAMN02603879      376848  GCA_000240165.1  GCF_000240165.1\n",
       "1    SAMN14411170     6465981  GCA_011765705.1              NaN\n",
       "2    SAMN14411171     6466001  GCA_011765735.1              NaN\n",
       "3    SAMD00106498     2168011  GCA_003945305.1  GCF_003945305.1\n",
       "4    SAMN05710194     1533101  GCA_002897315.1  GCF_002897315.1\n",
       "..            ...         ...              ...              ...\n",
       "232  SAMN03144971      315111  GCA_000959505.1  GCF_000959505.1\n",
       "233  SAMN00623032       39588  GCA_000018505.1  GCF_000018505.1\n",
       "234  SAMN03140189      315121  GCA_000959525.1  GCF_000959525.1\n",
       "235  SAMN00255227      492528  GCA_000286575.1  GCF_000286575.1\n",
       "236  SAMN02866398     1978921  GCA_003568605.1  GCF_003568605.1\n",
       "\n",
       "[237 rows x 4 columns]"
      ]
     },
     "execution_count": 17,
     "metadata": {},
     "output_type": "execute_result"
    }
   ],
   "source": [
    "biosample_df = pd.read_csv('./outputs/biosample_list-round3-210220.out.csv',sep='\\t')\n",
    "biosample_df = biosample_df[biosample_df['GenBank_id'] != '-']\n",
    "biosample_df = biosample_df.reset_index(drop=True)\n",
    "\n",
    "\n",
    "biosample_df"
   ]
  },
  {
   "cell_type": "markdown",
   "metadata": {},
   "source": [
    "## 1.4. Adding new column with the downloaded NCBI IDs"
   ]
  },
  {
   "cell_type": "code",
   "execution_count": 18,
   "metadata": {
    "scrolled": true
   },
   "outputs": [
    {
     "data": {
      "text/plain": [
       "(4896, 2120, 259, 237)"
      ]
     },
     "execution_count": 18,
     "metadata": {},
     "output_type": "execute_result"
    }
   ],
   "source": [
    "len(podp_merged_df),len(filtered_df),len(np.unique(filtered_df['BioSample'])),len(np.unique(biosample_df['GenBank_id']))\n",
    "### notice that we downloaded 237 out of the 259 unique BioSamples"
   ]
  },
  {
   "cell_type": "code",
   "execution_count": 19,
   "metadata": {},
   "outputs": [
    {
     "data": {
      "text/html": [
       "<div>\n",
       "<style scoped>\n",
       "    .dataframe tbody tr th:only-of-type {\n",
       "        vertical-align: middle;\n",
       "    }\n",
       "\n",
       "    .dataframe tbody tr th {\n",
       "        vertical-align: top;\n",
       "    }\n",
       "\n",
       "    .dataframe thead th {\n",
       "        text-align: right;\n",
       "    }\n",
       "</style>\n",
       "<table border=\"1\" class=\"dataframe\">\n",
       "  <thead>\n",
       "    <tr style=\"text-align: right;\">\n",
       "      <th></th>\n",
       "      <th>NCBI_ID</th>\n",
       "      <th>Database</th>\n",
       "      <th>BioSample</th>\n",
       "      <th>LCMS_file</th>\n",
       "      <th>Genome_label</th>\n",
       "      <th>Method</th>\n",
       "      <th>New_NCBI_ID</th>\n",
       "    </tr>\n",
       "  </thead>\n",
       "  <tbody>\n",
       "    <tr>\n",
       "      <th>0</th>\n",
       "      <td>GCA_000240165.1</td>\n",
       "      <td>RefSeq_accession</td>\n",
       "      <td>SAMN02603879</td>\n",
       "      <td>ftp://massive.ucsd.edu/MSV000078850/results/S....</td>\n",
       "      <td>S. cattleya</td>\n",
       "      <td>genome</td>\n",
       "      <td>GCA_000240165.1</td>\n",
       "    </tr>\n",
       "    <tr>\n",
       "      <th>1</th>\n",
       "      <td>GCA_000240165.1</td>\n",
       "      <td>RefSeq_accession</td>\n",
       "      <td>SAMN02603879</td>\n",
       "      <td>ftp://massive.ucsd.edu/MSV000078850/results/S....</td>\n",
       "      <td>S. cattleya</td>\n",
       "      <td>genome</td>\n",
       "      <td>GCA_000240165.1</td>\n",
       "    </tr>\n",
       "    <tr>\n",
       "      <th>2</th>\n",
       "      <td>GCA_000240165.1</td>\n",
       "      <td>RefSeq_accession</td>\n",
       "      <td>SAMN02603879</td>\n",
       "      <td>ftp://massive.ucsd.edu/MSV000078850/results/S....</td>\n",
       "      <td>S. cattleya</td>\n",
       "      <td>genome</td>\n",
       "      <td>GCA_000240165.1</td>\n",
       "    </tr>\n",
       "    <tr>\n",
       "      <th>3</th>\n",
       "      <td>GCA_000240165.1</td>\n",
       "      <td>RefSeq_accession</td>\n",
       "      <td>SAMN02603879</td>\n",
       "      <td>ftp://massive.ucsd.edu/MSV000078850/results/S....</td>\n",
       "      <td>S. cattleya</td>\n",
       "      <td>genome</td>\n",
       "      <td>GCA_000240165.1</td>\n",
       "    </tr>\n",
       "    <tr>\n",
       "      <th>4</th>\n",
       "      <td>GCA_000240165.1</td>\n",
       "      <td>RefSeq_accession</td>\n",
       "      <td>SAMN02603879</td>\n",
       "      <td>ftp://massive.ucsd.edu/MSV000078850/results/S....</td>\n",
       "      <td>S. cattleya</td>\n",
       "      <td>genome</td>\n",
       "      <td>GCA_000240165.1</td>\n",
       "    </tr>\n",
       "    <tr>\n",
       "      <th>...</th>\n",
       "      <td>...</td>\n",
       "      <td>...</td>\n",
       "      <td>...</td>\n",
       "      <td>...</td>\n",
       "      <td>...</td>\n",
       "      <td>...</td>\n",
       "      <td>...</td>\n",
       "    </tr>\n",
       "    <tr>\n",
       "      <th>4891</th>\n",
       "      <td>GCA_000286575.1</td>\n",
       "      <td>GenBank_accession</td>\n",
       "      <td>SAMN00255227</td>\n",
       "      <td>ftp://massive.ucsd.edu/MSV000084945/ccms_peak/...</td>\n",
       "      <td>Burkholderia multivorans CF2</td>\n",
       "      <td>genome</td>\n",
       "      <td>GCA_000286575.1</td>\n",
       "    </tr>\n",
       "    <tr>\n",
       "      <th>4892</th>\n",
       "      <td>GCA_000959505.1</td>\n",
       "      <td>GenBank_accession</td>\n",
       "      <td>SAMN03144971</td>\n",
       "      <td>ftp://massive.ucsd.edu/MSV000084945/ccms_peak/...</td>\n",
       "      <td>Burkholderia dolosa AU0158</td>\n",
       "      <td>genome</td>\n",
       "      <td>GCA_000959505.1</td>\n",
       "    </tr>\n",
       "    <tr>\n",
       "      <th>4893</th>\n",
       "      <td>GCA_000959505.1</td>\n",
       "      <td>GenBank_accession</td>\n",
       "      <td>SAMN03144971</td>\n",
       "      <td>ftp://massive.ucsd.edu/MSV000084945/ccms_peak/...</td>\n",
       "      <td>Burkholderia dolosa AU0158</td>\n",
       "      <td>genome</td>\n",
       "      <td>GCA_000959505.1</td>\n",
       "    </tr>\n",
       "    <tr>\n",
       "      <th>4894</th>\n",
       "      <td>GCA_003568605.1</td>\n",
       "      <td>GenBank_accession</td>\n",
       "      <td>SAMN02866398</td>\n",
       "      <td>ftp://massive.ucsd.edu/MSV000084945/ccms_peak/...</td>\n",
       "      <td>Burkholderia thailandensis E264</td>\n",
       "      <td>genome</td>\n",
       "      <td>GCA_003568605.1</td>\n",
       "    </tr>\n",
       "    <tr>\n",
       "      <th>4895</th>\n",
       "      <td>GCA_003568605.1</td>\n",
       "      <td>GenBank_accession</td>\n",
       "      <td>SAMN02866398</td>\n",
       "      <td>ftp://massive.ucsd.edu/MSV000084945/ccms_peak/...</td>\n",
       "      <td>Burkholderia thailandensis E264</td>\n",
       "      <td>genome</td>\n",
       "      <td>GCA_003568605.1</td>\n",
       "    </tr>\n",
       "  </tbody>\n",
       "</table>\n",
       "<p>4896 rows × 7 columns</p>\n",
       "</div>"
      ],
      "text/plain": [
       "              NCBI_ID           Database     BioSample  \\\n",
       "0     GCA_000240165.1   RefSeq_accession  SAMN02603879   \n",
       "1     GCA_000240165.1   RefSeq_accession  SAMN02603879   \n",
       "2     GCA_000240165.1   RefSeq_accession  SAMN02603879   \n",
       "3     GCA_000240165.1   RefSeq_accession  SAMN02603879   \n",
       "4     GCA_000240165.1   RefSeq_accession  SAMN02603879   \n",
       "...               ...                ...           ...   \n",
       "4891  GCA_000286575.1  GenBank_accession  SAMN00255227   \n",
       "4892  GCA_000959505.1  GenBank_accession  SAMN03144971   \n",
       "4893  GCA_000959505.1  GenBank_accession  SAMN03144971   \n",
       "4894  GCA_003568605.1  GenBank_accession  SAMN02866398   \n",
       "4895  GCA_003568605.1  GenBank_accession  SAMN02866398   \n",
       "\n",
       "                                              LCMS_file  \\\n",
       "0     ftp://massive.ucsd.edu/MSV000078850/results/S....   \n",
       "1     ftp://massive.ucsd.edu/MSV000078850/results/S....   \n",
       "2     ftp://massive.ucsd.edu/MSV000078850/results/S....   \n",
       "3     ftp://massive.ucsd.edu/MSV000078850/results/S....   \n",
       "4     ftp://massive.ucsd.edu/MSV000078850/results/S....   \n",
       "...                                                 ...   \n",
       "4891  ftp://massive.ucsd.edu/MSV000084945/ccms_peak/...   \n",
       "4892  ftp://massive.ucsd.edu/MSV000084945/ccms_peak/...   \n",
       "4893  ftp://massive.ucsd.edu/MSV000084945/ccms_peak/...   \n",
       "4894  ftp://massive.ucsd.edu/MSV000084945/ccms_peak/...   \n",
       "4895  ftp://massive.ucsd.edu/MSV000084945/ccms_peak/...   \n",
       "\n",
       "                         Genome_label  Method      New_NCBI_ID  \n",
       "0                         S. cattleya  genome  GCA_000240165.1  \n",
       "1                         S. cattleya  genome  GCA_000240165.1  \n",
       "2                         S. cattleya  genome  GCA_000240165.1  \n",
       "3                         S. cattleya  genome  GCA_000240165.1  \n",
       "4                         S. cattleya  genome  GCA_000240165.1  \n",
       "...                               ...     ...              ...  \n",
       "4891     Burkholderia multivorans CF2  genome  GCA_000286575.1  \n",
       "4892       Burkholderia dolosa AU0158  genome  GCA_000959505.1  \n",
       "4893       Burkholderia dolosa AU0158  genome  GCA_000959505.1  \n",
       "4894  Burkholderia thailandensis E264  genome  GCA_003568605.1  \n",
       "4895  Burkholderia thailandensis E264  genome  GCA_003568605.1  \n",
       "\n",
       "[4896 rows x 7 columns]"
      ]
     },
     "execution_count": 19,
     "metadata": {},
     "output_type": "execute_result"
    }
   ],
   "source": [
    "biosample_dict = dict(zip(biosample_df.Accession_id, biosample_df.GenBank_id))\n",
    "new_col = []\n",
    "\n",
    "for i,r in podp_merged_df.iterrows():\n",
    "    biosample_id = podp_merged_df['BioSample'].loc[i]\n",
    "    if biosample_id in biosample_dict.keys():\n",
    "        new_col.append(biosample_dict[biosample_id])\n",
    "    else:\n",
    "        if 'GCA' in biosample_id or 'ERX' in biosample_id or 'ERS' in biosample_id:\n",
    "            new_col.append(biosample_id)\n",
    "        else:\n",
    "            new_col.append('NaN')\n",
    "        \n",
    "podp_merged_df['New_NCBI_ID'] = new_col\n",
    "\n",
    "podp_merged_df"
   ]
  },
  {
   "cell_type": "code",
   "execution_count": 20,
   "metadata": {},
   "outputs": [
    {
     "name": "stdout",
     "output_type": "stream",
     "text": [
      "1383 2308 727 4896\n",
      "237\n"
     ]
    }
   ],
   "source": [
    "count = 0\n",
    "gca_list = []\n",
    "\n",
    "for item in podp_merged_df.New_NCBI_ID:\n",
    "    if 'GCA' in item:\n",
    "        count += 1\n",
    "        gca_list.append(item)\n",
    "        \n",
    "print(count,len(podp_merged_df[podp_merged_df['New_NCBI_ID'] == 'NaN']),\n",
    "      len(np.unique(podp_merged_df[podp_merged_df['New_NCBI_ID'] == 'NaN']['NCBI_ID'])),len(podp_merged_df))\n",
    "print(len(np.unique(gca_list)))\n",
    "### notice that all 237 unique BioSamples generate a GCA code and there were 490/727 other genomes that can't be downloaded"
   ]
  },
  {
   "cell_type": "markdown",
   "metadata": {},
   "source": [
    "## 1.5. Downloading and unzipping the NCBI genomes"
   ]
  },
  {
   "cell_type": "code",
   "execution_count": 21,
   "metadata": {},
   "outputs": [],
   "source": [
    "# !mkdir -p /Volumes/TFL190831/NPOmix_round4/podp_ncbi/"
   ]
  },
  {
   "cell_type": "code",
   "execution_count": 22,
   "metadata": {},
   "outputs": [
    {
     "name": "stdout",
     "output_type": "stream",
     "text": [
      "237 0\n"
     ]
    }
   ],
   "source": [
    "cmd_list,genomes_failed = [],[]\n",
    "\n",
    "for i,r in podp_merged_df.iterrows():\n",
    "    if type(r['New_NCBI_ID']) == float:\n",
    "        n = re.match(r'^\\D{4}\\d{2}$',r['NCBI_ID'])\n",
    "        if n:\n",
    "            cmd = 'wget https://sra-download.ncbi.nlm.nih.gov/traces/wgs01/wgs_aux/%s/%s/%s/%s.1.fsa_nt.gz'%(r['NCBI_ID'][0:2],r['NCBI_ID'][2:4],r['NCBI_ID'],r['NCBI_ID'])\n",
    "        if 'GCA' in str(r['NCBI_ID']):\n",
    "            cmd = 'wget -nd -r --no-parent -A \"genomic.fna.gz\"  -R \"*_from_genomic*\" \"ftp://ftp.ncbi.nlm.nih.gov/genomes/all/GCA/%s/%s/%s/\"'%(r['NCBI_ID'][4:7],r['NCBI_ID'][7:10],r['NCBI_ID'][10:13])\n",
    "        if 'GCA' not in str(r['NCBI_ID']) and not n:\n",
    "            cmd = None\n",
    "    else:\n",
    "        if 'GCA' in str(r['New_NCBI_ID']):\n",
    "            cmd = 'wget -nd -r --no-parent -A \"genomic.fna.gz\"  -R \"*_from_genomic*\" \"ftp://ftp.ncbi.nlm.nih.gov/genomes/all/GCA/%s/%s/%s/\"'%(r['New_NCBI_ID'][4:7],r['New_NCBI_ID'][7:10],r['New_NCBI_ID'][10:13])\n",
    "        else:\n",
    "            cmd = None\n",
    "    if cmd != None:\n",
    "        if cmd not in cmd_list:\n",
    "            cmd_list.append(cmd)\n",
    "#             try: #only run once\n",
    "#                 subprocess.check_output(cmd, shell=True, cwd='/Volumes/TFL190831/NPOmix_round4/podp_ncbi/')\n",
    "#             except subprocess.CalledProcessError as e:\n",
    "#                 genomes_failed.append(cmd)\n",
    "\n",
    "print(len(cmd_list),len(genomes_failed))"
   ]
  },
  {
   "cell_type": "code",
   "execution_count": 23,
   "metadata": {},
   "outputs": [
    {
     "name": "stdout",
     "output_type": "stream",
     "text": [
      "ls: /Volumes/TFL190831/NPOmix_round4_genomes/podp_ncbi/: No such file or directory\r\n",
      "       0\r\n"
     ]
    }
   ],
   "source": [
    "!ls /Volumes/TFL190831/NPOmix_round4_genomes/podp_ncbi/ | wc -l"
   ]
  },
  {
   "cell_type": "code",
   "execution_count": 24,
   "metadata": {
    "scrolled": true
   },
   "outputs": [],
   "source": [
    "### only run once\n",
    "\n",
    "# genome_list = glob.glob(\"/Volumes/TFL190831/podp_round4_ncbi/*.gz\")\n",
    "\n",
    "# for item in genome_list:\n",
    "#     genome = os.path.basename(item).split('.')[0]\n",
    "#     print(os.path.basename(item))\n",
    "#     cmd = \"gunzip -c %s > %s.fasta\"%(os.path.basename(item),genome)\n",
    "#     subprocess.check_output(cmd, shell=True, cwd='/Volumes/TFL190831/NPOmix_round4_genomes/podp_ncbi/')"
   ]
  },
  {
   "cell_type": "code",
   "execution_count": 25,
   "metadata": {},
   "outputs": [],
   "source": [
    "# !rm /Volumes/TFL190831/NPOmix_round4_genomes/podp_ncbi/*.gz"
   ]
  },
  {
   "cell_type": "markdown",
   "metadata": {},
   "source": [
    "## 1.6. Copying previously downloaded genomes"
   ]
  },
  {
   "cell_type": "code",
   "execution_count": 27,
   "metadata": {
    "scrolled": true
   },
   "outputs": [],
   "source": [
    "glob_round3 = glob.glob('/Volumes/TFL190831/podp_round3_ncbi/*fasta')\n",
    "\n",
    "for file_path in glob_round3:\n",
    "    fasta_file = os.path.basename(file_path)\n",
    "    if not os.path.exists('/Volumes/TFL190831/NPOmix_round4_genomes/podp_ncbi/%s'%fasta_file):\n",
    "        cmd = 'cp %s /Volumes/TFL190831/NPOmix_round4/previous_genomes/'%file_path\n",
    "#         subprocess.call(cmd, shell=True)"
   ]
  },
  {
   "cell_type": "code",
   "execution_count": 28,
   "metadata": {},
   "outputs": [
    {
     "name": "stdout",
     "output_type": "stream",
     "text": [
      "ls: /Volumes/TFL190831/NPOmix_round4_genomes/podp_ncbi/*.fasta: No such file or directory\r\n",
      "       0\r\n"
     ]
    }
   ],
   "source": [
    "!ls /Volumes/TFL190831/NPOmix_round4_genomes/podp_ncbi/*.fasta | wc -l"
   ]
  },
  {
   "cell_type": "code",
   "execution_count": 29,
   "metadata": {},
   "outputs": [
    {
     "name": "stdout",
     "output_type": "stream",
     "text": [
      "ls: /Volumes/TFL190831/NPOmix_round4_genomes/previous_genomes/*.fasta: No such file or directory\r\n",
      "       0\r\n"
     ]
    }
   ],
   "source": [
    "!ls /Volumes/TFL190831/NPOmix_round4_genomes/previous_genomes/*.fasta | wc -l"
   ]
  },
  {
   "cell_type": "code",
   "execution_count": 31,
   "metadata": {},
   "outputs": [
    {
     "data": {
      "text/plain": [
       "(279, 279)"
      ]
     },
     "execution_count": 31,
     "metadata": {},
     "output_type": "execute_result"
    }
   ],
   "source": [
    "AS_previous_list = glob.glob('/Volumes/TFL190831/nf_output-iomega/*')\n",
    "count = 0\n",
    "\n",
    "for file_path in AS_previous_list:\n",
    "    AS_file = os.path.basename(file_path).split('_output')[0]\n",
    "    if os.path.exists('/Volumes/TFL190831/NPOmix_round4_genomes/previous_genomes/%s'%AS_file):\n",
    "        count += 1\n",
    "    else:\n",
    "        if os.path.exists('/Volumes/TFL190831/NPOmix_round4_genomes/podp_ncbi/%s'%AS_file):\n",
    "            count += 1\n",
    "            \n",
    "count,len(AS_previous_list)"
   ]
  },
  {
   "cell_type": "code",
   "execution_count": 31,
   "metadata": {
    "scrolled": true
   },
   "outputs": [
    {
     "data": {
      "text/plain": [
       "161"
      ]
     },
     "execution_count": 31,
     "metadata": {},
     "output_type": "execute_result"
    }
   ],
   "source": [
    "previous_genomes = glob.glob('/Volumes/TFL190831/NPOmix_round4_genomes/previous_genomes/*fasta')\n",
    "missing_from_podp = []\n",
    "\n",
    "for item in previous_genomes:\n",
    "    sum_item = os.path.basename(item).split('.')[0]\n",
    "    temp_df = podp_merged_df[podp_merged_df['NCBI_ID'].str.contains(sum_item)]\n",
    "    if len(temp_df) == 0:\n",
    "        missing_from_podp.append(item)\n",
    "\n",
    "len(missing_from_podp)        \n",
    "### for now, eventhough we don't have these genomes in the current podp_list, we already have LCMS for those"
   ]
  },
  {
   "cell_type": "markdown",
   "metadata": {},
   "source": [
    "## 1.7. Downloading metagenomic reads"
   ]
  },
  {
   "cell_type": "code",
   "execution_count": 32,
   "metadata": {},
   "outputs": [],
   "source": [
    "# !mkdir /Volumes/TFL190831/NPOmix_round4/ERX_reads/\n",
    "# !mkdir /Volumes/TFL190831/NPOmix_round4/ERS_reads/"
   ]
  },
  {
   "cell_type": "code",
   "execution_count": 33,
   "metadata": {},
   "outputs": [
    {
     "data": {
      "text/plain": [
       "724"
      ]
     },
     "execution_count": 33,
     "metadata": {},
     "output_type": "execute_result"
    }
   ],
   "source": [
    "len(np.unique(podp_merged_df[podp_merged_df['New_NCBI_ID'].str.contains('ERS')]['New_NCBI_ID']))"
   ]
  },
  {
   "cell_type": "code",
   "execution_count": 34,
   "metadata": {},
   "outputs": [
    {
     "data": {
      "text/plain": [
       "481"
      ]
     },
     "execution_count": 34,
     "metadata": {},
     "output_type": "execute_result"
    }
   ],
   "source": [
    "len(np.unique(podp_merged_df[podp_merged_df['New_NCBI_ID'].str.contains('ERX')]['New_NCBI_ID']))"
   ]
  },
  {
   "cell_type": "code",
   "execution_count": 35,
   "metadata": {},
   "outputs": [],
   "source": [
    "### only run once\n",
    "# !mkdir /Volumes/TFL190831/NPOmix_round4_genomes/ERX_fileroports/\n",
    "# !mkdir /Volumes/TFL190831/NPOmix_round4_genomes/ERS_fileroports/"
   ]
  },
  {
   "cell_type": "code",
   "execution_count": 36,
   "metadata": {},
   "outputs": [],
   "source": [
    "### only run once for ERS codes and one more time to ERX\n",
    "\n",
    "# !mkdir /Volumes/TFL190831/NPOmix_round4_genomes/ERS_fileroports/\n",
    "\n",
    "# for i,r in podp_merged_df.iterrows():\n",
    "#     if 'ERS' in podp_merged_df['New_NCBI_ID'].loc[i]:\n",
    "#         ena_code = podp_merged_df['New_NCBI_ID'].loc[i]\n",
    "#         https_cmd = \"wget \\\"https://www.ebi.ac.uk/ena/data/warehouse/filereport?accession=%s&result=read_run&fields=fastq_ftp\\\"\"%ena_code\n",
    "#         subprocess.call(https_cmd, shell=True, cwd='/Volumes/TFL190831/NPOmix_round4_genomes/ERS_fileroports/')"
   ]
  },
  {
   "cell_type": "code",
   "execution_count": 37,
   "metadata": {},
   "outputs": [],
   "source": [
    "https_list = glob.glob('/Volumes/TFL190831/NPOmix_round4_genomes/ERX_fileroports/filereport?accession=*')\n",
    "cmd_list = []\n",
    "ena_dict1 = {}\n",
    "\n",
    "for item in https_list:\n",
    "    https_df = pd.read_csv(item,sep='\\t')\n",
    "    read_1 = https_df['fastq_ftp'].loc[0].split(';')[0]\n",
    "    cmd_list.append('wget ftp://%s'%read_1)\n",
    "    ena_dict1[os.path.basename(read_1).split('.')[0]] = item[78:88]\n",
    "    \n",
    "# with open('./temp_files/ftp_ERX_list.txt', 'w') as filehandle:\n",
    "#     filehandle.writelines(\"%s\\n\" % command for command in cmd_list)"
   ]
  },
  {
   "cell_type": "code",
   "execution_count": 38,
   "metadata": {},
   "outputs": [
    {
     "data": {
      "text/plain": [
       "'ERX2291668'"
      ]
     },
     "execution_count": 38,
     "metadata": {},
     "output_type": "execute_result"
    }
   ],
   "source": [
    "ena_dict1['ERR2239508']"
   ]
  },
  {
   "cell_type": "code",
   "execution_count": 39,
   "metadata": {},
   "outputs": [],
   "source": [
    "https_list = glob.glob('/Volumes/TFL190831/NPOmix_round4_genomes/ERS_fileroports/filereport?accession=*')\n",
    "cmd_list = []\n",
    "ena_dict2 = {}\n",
    "\n",
    "for item in https_list:\n",
    "    https_df = pd.read_csv(item,sep='\\t')\n",
    "    read_1 = https_df['fastq_ftp'].loc[0].split(';')[0]\n",
    "    read_2 = https_df['fastq_ftp'].loc[0].split(';')[1]\n",
    "    cmd_list.append('wget ftp://%s'%read_1)\n",
    "    cmd_list.append('wget ftp://%s'%read_2)\n",
    "    ena_dict2[os.path.basename(read_1).split('.')[0].split('_')[0]] = item[78:88]\n",
    "    \n",
    "# with open('./temp_files/ftp_ERS_list.txt', 'w') as filehandle:\n",
    "#     filehandle.writelines(\"%s\\n\" % command for command in cmd_list)"
   ]
  },
  {
   "cell_type": "code",
   "execution_count": 40,
   "metadata": {},
   "outputs": [
    {
     "data": {
      "text/plain": [
       "'ERS4346398'"
      ]
     },
     "execution_count": 40,
     "metadata": {},
     "output_type": "execute_result"
    }
   ],
   "source": [
    "ena_dict2['ERR3946693']"
   ]
  },
  {
   "cell_type": "code",
   "execution_count": 41,
   "metadata": {},
   "outputs": [],
   "source": [
    "def Merge(dict1, dict2):\n",
    "    res = {**dict1, **dict2}\n",
    "    return res\n",
    "\n",
    "ena_dict3 = Merge(ena_dict1, ena_dict2)\n",
    "\n",
    "# with open('./temp_files/ena_dict-round3-210315.csv', 'w') as f:\n",
    "#     for key in ena_dict3.keys():\n",
    "#         f.write(\"%s,%s\\n\"%(key,ena_dict3[key]))"
   ]
  },
  {
   "cell_type": "markdown",
   "metadata": {},
   "source": [
    "```bash\n",
    "cd /Volumes/TFL190831/NPOmix_round4_genomes/ERX_reads/\n",
    "\n",
    "sh ./ftp_ERX_list.txt\n",
    "```\n",
    "and alternatively\n",
    "\n",
    "```bash\n",
    "cd /Volumes/TFL190831/NPOmix_round4_genomes/ERS_reads/\n",
    "\n",
    "sh ./ftp_ERS_list.txt\n",
    "```"
   ]
  },
  {
   "cell_type": "code",
   "execution_count": 42,
   "metadata": {},
   "outputs": [
    {
     "name": "stdout",
     "output_type": "stream",
     "text": [
      "    1448\r\n"
     ]
    }
   ],
   "source": [
    "!ls /Volumes/TFL190831/NPOmix_round4_genomes/ERS_reads/*fastq.gz | wc -l"
   ]
  },
  {
   "cell_type": "code",
   "execution_count": 43,
   "metadata": {},
   "outputs": [
    {
     "name": "stdout",
     "output_type": "stream",
     "text": [
      "     481\r\n"
     ]
    }
   ],
   "source": [
    "!ls /Volumes/TFL190831/NPOmix_round4_genomes/ERX_reads/*fastq.gz | wc -l"
   ]
  },
  {
   "cell_type": "markdown",
   "metadata": {},
   "source": [
    "## 1.8. Downloading JGI (meta)genomes\n",
    "\n",
    "`Salinispora_genomes_faa` with 119 Salinisopra was provided by the Jensen lab"
   ]
  },
  {
   "cell_type": "code",
   "execution_count": 44,
   "metadata": {},
   "outputs": [
    {
     "data": {
      "text/plain": [
       "309"
      ]
     },
     "execution_count": 44,
     "metadata": {},
     "output_type": "execute_result"
    }
   ],
   "source": [
    "len(np.unique(podp_merged_df[podp_merged_df['Database'].str.contains('JGI')]['NCBI_ID']))"
   ]
  },
  {
   "cell_type": "code",
   "execution_count": 45,
   "metadata": {},
   "outputs": [],
   "source": [
    "# !mkdir /Volumes/TFL190831/NPOmix_round4_genomes/manual_genomes"
   ]
  },
  {
   "cell_type": "code",
   "execution_count": 46,
   "metadata": {},
   "outputs": [],
   "source": [
    "download_col,download_list,sal_filt = [],[],[]\n",
    "sal_glob = glob.glob('/Volumes/TFL190831/NPOmix_round4_genomes/Salinispora_genomes_faa/*.faa')\n",
    "\n",
    "for item in sal_glob:\n",
    "    sal_filt.append(os.path.basename(item).split('_')[0])\n",
    "\n",
    "for i,r in podp_merged_df.iterrows():\n",
    "    if 'JGI' in r['Database']:\n",
    "        if 'Salinispora' in r['Genome_label']:\n",
    "            sal_id = 'S' + r['Genome_label'][12] + r['Genome_label'].split(' ')[2]\n",
    "            if sal_id in sal_filt:\n",
    "                download_col.append('yes')\n",
    "                download_list.append(sal_id)\n",
    "            else:\n",
    "                download_col.append('no')\n",
    "        else:\n",
    "            download_col.append('no')\n",
    "    else:\n",
    "        if r['New_NCBI_ID'] != 'NaN':\n",
    "            download_col.append('yes')\n",
    "        else:\n",
    "            download_col.append('no')\n",
    "            \n",
    "podp_merged_df['Downloaded'] = download_col"
   ]
  },
  {
   "cell_type": "code",
   "execution_count": 47,
   "metadata": {},
   "outputs": [
    {
     "data": {
      "text/plain": [
       "(112, 4896, 4896)"
      ]
     },
     "execution_count": 47,
     "metadata": {},
     "output_type": "execute_result"
    }
   ],
   "source": [
    "len(np.unique(download_list)),len(download_col),len(podp_merged_df)"
   ]
  },
  {
   "cell_type": "code",
   "execution_count": 48,
   "metadata": {},
   "outputs": [
    {
     "data": {
      "text/plain": [
       "1443"
      ]
     },
     "execution_count": 48,
     "metadata": {},
     "output_type": "execute_result"
    }
   ],
   "source": [
    "len(np.unique(podp_merged_df[podp_merged_df['Downloaded'] == 'yes']['New_NCBI_ID']))"
   ]
  },
  {
   "cell_type": "code",
   "execution_count": 49,
   "metadata": {},
   "outputs": [
    {
     "data": {
      "text/html": [
       "<div>\n",
       "<style scoped>\n",
       "    .dataframe tbody tr th:only-of-type {\n",
       "        vertical-align: middle;\n",
       "    }\n",
       "\n",
       "    .dataframe tbody tr th {\n",
       "        vertical-align: top;\n",
       "    }\n",
       "\n",
       "    .dataframe thead th {\n",
       "        text-align: right;\n",
       "    }\n",
       "</style>\n",
       "<table border=\"1\" class=\"dataframe\">\n",
       "  <thead>\n",
       "    <tr style=\"text-align: right;\">\n",
       "      <th></th>\n",
       "      <th>NCBI_ID</th>\n",
       "      <th>Database</th>\n",
       "      <th>BioSample</th>\n",
       "      <th>LCMS_file</th>\n",
       "      <th>Genome_label</th>\n",
       "      <th>Method</th>\n",
       "      <th>New_NCBI_ID</th>\n",
       "      <th>Downloaded</th>\n",
       "    </tr>\n",
       "  </thead>\n",
       "  <tbody>\n",
       "    <tr>\n",
       "      <th>46</th>\n",
       "      <td>2821485673</td>\n",
       "      <td>JGI_Genome_ID</td>\n",
       "      <td>SAMN13061032</td>\n",
       "      <td>ftp://massive.ucsd.edu/MSV000086050/updates/20...</td>\n",
       "      <td>GUM007</td>\n",
       "      <td>metagenome-assembled genome</td>\n",
       "      <td>NaN</td>\n",
       "      <td>no</td>\n",
       "    </tr>\n",
       "    <tr>\n",
       "      <th>47</th>\n",
       "      <td>CP022686.1</td>\n",
       "      <td>GenBank_accession</td>\n",
       "      <td>No BioSample</td>\n",
       "      <td>ftp://massive.ucsd.edu/MSV000083387/peak/mzXML...</td>\n",
       "      <td>Ecoli_Nissle_genome</td>\n",
       "      <td>genome</td>\n",
       "      <td>NaN</td>\n",
       "      <td>no</td>\n",
       "    </tr>\n",
       "    <tr>\n",
       "      <th>48</th>\n",
       "      <td>CP022686.1</td>\n",
       "      <td>GenBank_accession</td>\n",
       "      <td>No BioSample</td>\n",
       "      <td>ftp://massive.ucsd.edu/MSV000083387/peak/mzXML...</td>\n",
       "      <td>Ecoli_Nissle_genome</td>\n",
       "      <td>genome</td>\n",
       "      <td>NaN</td>\n",
       "      <td>no</td>\n",
       "    </tr>\n",
       "    <tr>\n",
       "      <th>49</th>\n",
       "      <td>CP022686.1</td>\n",
       "      <td>GenBank_accession</td>\n",
       "      <td>No BioSample</td>\n",
       "      <td>ftp://massive.ucsd.edu/MSV000083387/peak/mzXML...</td>\n",
       "      <td>Ecoli_Nissle_genome</td>\n",
       "      <td>genome</td>\n",
       "      <td>NaN</td>\n",
       "      <td>no</td>\n",
       "    </tr>\n",
       "    <tr>\n",
       "      <th>50</th>\n",
       "      <td>MDRX01000000</td>\n",
       "      <td>GenBank_accession</td>\n",
       "      <td>No BioSample</td>\n",
       "      <td>ftp://massive.ucsd.edu/MSV000085021/peak/DA2-8...</td>\n",
       "      <td>WMMB235</td>\n",
       "      <td>genome</td>\n",
       "      <td>NaN</td>\n",
       "      <td>no</td>\n",
       "    </tr>\n",
       "    <tr>\n",
       "      <th>...</th>\n",
       "      <td>...</td>\n",
       "      <td>...</td>\n",
       "      <td>...</td>\n",
       "      <td>...</td>\n",
       "      <td>...</td>\n",
       "      <td>...</td>\n",
       "      <td>...</td>\n",
       "      <td>...</td>\n",
       "    </tr>\n",
       "    <tr>\n",
       "      <th>3970</th>\n",
       "      <td>651717039, 651716642</td>\n",
       "      <td>JGI_Genome_ID</td>\n",
       "      <td>SAMN11997568</td>\n",
       "      <td>ftp://massive.ucsd.edu/MSV000083648/raw/detoxi...</td>\n",
       "      <td>Streptomyces spectabilis Dietz NRRL 2792 (ATCC...</td>\n",
       "      <td>genome</td>\n",
       "      <td>NaN</td>\n",
       "      <td>no</td>\n",
       "    </tr>\n",
       "    <tr>\n",
       "      <th>3971</th>\n",
       "      <td>651717039, 651716642</td>\n",
       "      <td>JGI_Genome_ID</td>\n",
       "      <td>SAMN11997568</td>\n",
       "      <td>ftp://massive.ucsd.edu/MSV000083648/raw/detoxi...</td>\n",
       "      <td>Streptomyces spectabilis Dietz NRRL 2792 (ATCC...</td>\n",
       "      <td>genome</td>\n",
       "      <td>NaN</td>\n",
       "      <td>no</td>\n",
       "    </tr>\n",
       "    <tr>\n",
       "      <th>3972</th>\n",
       "      <td>651717039, 651716642</td>\n",
       "      <td>JGI_Genome_ID</td>\n",
       "      <td>SAMN11997568</td>\n",
       "      <td>ftp://massive.ucsd.edu/MSV000083648/raw/detoxi...</td>\n",
       "      <td>Streptomyces spectabilis Dietz NRRL 2792 (ATCC...</td>\n",
       "      <td>genome</td>\n",
       "      <td>NaN</td>\n",
       "      <td>no</td>\n",
       "    </tr>\n",
       "    <tr>\n",
       "      <th>3973</th>\n",
       "      <td>2767802005</td>\n",
       "      <td>JGI_Genome_ID</td>\n",
       "      <td>SAMN02645517</td>\n",
       "      <td>ftp://massive.ucsd.edu/MSV000083648/raw/detoxi...</td>\n",
       "      <td>Streptomyces sp. NRRL S-325</td>\n",
       "      <td>genome</td>\n",
       "      <td>NaN</td>\n",
       "      <td>no</td>\n",
       "    </tr>\n",
       "    <tr>\n",
       "      <th>4698</th>\n",
       "      <td>235463</td>\n",
       "      <td>JGI_Genome_ID</td>\n",
       "      <td>PRJNA639598</td>\n",
       "      <td>ftp://massive.ucsd.edu/MSV000085586/peak/Actin...</td>\n",
       "      <td>genome - Actinomadura BRA177</td>\n",
       "      <td>genome</td>\n",
       "      <td>NaN</td>\n",
       "      <td>no</td>\n",
       "    </tr>\n",
       "  </tbody>\n",
       "</table>\n",
       "<p>1849 rows × 8 columns</p>\n",
       "</div>"
      ],
      "text/plain": [
       "                   NCBI_ID           Database     BioSample  \\\n",
       "46              2821485673      JGI_Genome_ID  SAMN13061032   \n",
       "47              CP022686.1  GenBank_accession  No BioSample   \n",
       "48              CP022686.1  GenBank_accession  No BioSample   \n",
       "49              CP022686.1  GenBank_accession  No BioSample   \n",
       "50            MDRX01000000  GenBank_accession  No BioSample   \n",
       "...                    ...                ...           ...   \n",
       "3970  651717039, 651716642      JGI_Genome_ID  SAMN11997568   \n",
       "3971  651717039, 651716642      JGI_Genome_ID  SAMN11997568   \n",
       "3972  651717039, 651716642      JGI_Genome_ID  SAMN11997568   \n",
       "3973            2767802005      JGI_Genome_ID  SAMN02645517   \n",
       "4698                235463      JGI_Genome_ID   PRJNA639598   \n",
       "\n",
       "                                              LCMS_file  \\\n",
       "46    ftp://massive.ucsd.edu/MSV000086050/updates/20...   \n",
       "47    ftp://massive.ucsd.edu/MSV000083387/peak/mzXML...   \n",
       "48    ftp://massive.ucsd.edu/MSV000083387/peak/mzXML...   \n",
       "49    ftp://massive.ucsd.edu/MSV000083387/peak/mzXML...   \n",
       "50    ftp://massive.ucsd.edu/MSV000085021/peak/DA2-8...   \n",
       "...                                                 ...   \n",
       "3970  ftp://massive.ucsd.edu/MSV000083648/raw/detoxi...   \n",
       "3971  ftp://massive.ucsd.edu/MSV000083648/raw/detoxi...   \n",
       "3972  ftp://massive.ucsd.edu/MSV000083648/raw/detoxi...   \n",
       "3973  ftp://massive.ucsd.edu/MSV000083648/raw/detoxi...   \n",
       "4698  ftp://massive.ucsd.edu/MSV000085586/peak/Actin...   \n",
       "\n",
       "                                           Genome_label  \\\n",
       "46                                               GUM007   \n",
       "47                                  Ecoli_Nissle_genome   \n",
       "48                                  Ecoli_Nissle_genome   \n",
       "49                                  Ecoli_Nissle_genome   \n",
       "50                                              WMMB235   \n",
       "...                                                 ...   \n",
       "3970  Streptomyces spectabilis Dietz NRRL 2792 (ATCC...   \n",
       "3971  Streptomyces spectabilis Dietz NRRL 2792 (ATCC...   \n",
       "3972  Streptomyces spectabilis Dietz NRRL 2792 (ATCC...   \n",
       "3973                        Streptomyces sp. NRRL S-325   \n",
       "4698                       genome - Actinomadura BRA177   \n",
       "\n",
       "                           Method New_NCBI_ID Downloaded  \n",
       "46    metagenome-assembled genome         NaN         no  \n",
       "47                         genome         NaN         no  \n",
       "48                         genome         NaN         no  \n",
       "49                         genome         NaN         no  \n",
       "50                         genome         NaN         no  \n",
       "...                           ...         ...        ...  \n",
       "3970                       genome         NaN         no  \n",
       "3971                       genome         NaN         no  \n",
       "3972                       genome         NaN         no  \n",
       "3973                       genome         NaN         no  \n",
       "4698                       genome         NaN         no  \n",
       "\n",
       "[1849 rows x 8 columns]"
      ]
     },
     "execution_count": 49,
     "metadata": {},
     "output_type": "execute_result"
    }
   ],
   "source": [
    "podp_merged_df[podp_merged_df['Downloaded'] == 'no']"
   ]
  },
  {
   "cell_type": "markdown",
   "metadata": {},
   "source": [
    "Use the dataframe above to manually download these genomes searching at [NCBI database](https://www.ncbi.nlm.nih.gov/Traces/wgs/?page=1&view=all&search=GCF_000196155.1) and place them a the manual_genomes folder"
   ]
  },
  {
   "cell_type": "code",
   "execution_count": 50,
   "metadata": {},
   "outputs": [],
   "source": [
    "manual_glob = glob.glob('/Volumes/TFL190831/NPOmix_round4_genomes/manual_genomes/*')\n",
    "\n",
    "manual_list,indexes_to_keep = [],[]\n",
    "\n",
    "for item in manual_glob:\n",
    "    manual_list.append(os.path.basename(item).split('.fasta')[0])\n",
    "\n",
    "for i,r in podp_merged_df.iterrows():\n",
    "    if r['Downloaded'] == 'no':\n",
    "        if r['NCBI_ID'] not in manual_list:\n",
    "            indexes_to_keep.append(i)\n",
    "\n",
    "# podp_merged_df.loc[indexes_to_keep].to_csv('./outputs/cant_download_podp_merged_df-round3-210315.tsv',sep='\\t')"
   ]
  },
  {
   "cell_type": "code",
   "execution_count": 51,
   "metadata": {},
   "outputs": [
    {
     "data": {
      "text/plain": [
       "(3047, 1849, 4896)"
      ]
     },
     "execution_count": 51,
     "metadata": {},
     "output_type": "execute_result"
    }
   ],
   "source": [
    "len(podp_merged_df[podp_merged_df['Downloaded'] == 'yes']),len(podp_merged_df[podp_merged_df['Downloaded'] == 'no']),len(podp_merged_df)"
   ]
  },
  {
   "cell_type": "code",
   "execution_count": 52,
   "metadata": {},
   "outputs": [
    {
     "data": {
      "text/plain": [
       "308"
      ]
     },
     "execution_count": 52,
     "metadata": {},
     "output_type": "execute_result"
    }
   ],
   "source": [
    "len(np.unique(podp_merged_df.loc[indexes_to_keep]['NCBI_ID']))"
   ]
  },
  {
   "cell_type": "markdown",
   "metadata": {},
   "source": [
    "## 1.9. Separating Genomes without antiSMASH (Optional)"
   ]
  },
  {
   "cell_type": "code",
   "execution_count": 53,
   "metadata": {},
   "outputs": [],
   "source": [
    "# !mkdir /Volumes/TFL190831/genomes_to_antiSMASH/"
   ]
  },
  {
   "cell_type": "code",
   "execution_count": 54,
   "metadata": {},
   "outputs": [
    {
     "data": {
      "text/plain": [
       "(868, 679)"
      ]
     },
     "execution_count": 54,
     "metadata": {},
     "output_type": "execute_result"
    }
   ],
   "source": [
    "AS_all_list = glob.glob('/Volumes/TFL190831/ming_output/antismash/*')\n",
    "AS_list = []\n",
    "count = 0\n",
    "\n",
    "for file_path in AS_all_list:\n",
    "    AS_file = file_path.split('/')[5].split('.')[0].split('_contigs')[0]\n",
    "    if AS_file in ena_dict1:\n",
    "        AS_list.append(ena_dict1[AS_file])\n",
    "    if AS_file in ena_dict2:\n",
    "        AS_list.append(ena_dict2[AS_file])\n",
    "    if AS_file not in ena_dict1 and AS_file not in ena_dict2:\n",
    "        AS_list.append(AS_file)\n",
    "\n",
    "manual_genomes = glob.glob('/Volumes/TFL190831/NPOmix_round4_genomes/manual_genomes/*')\n",
    "ncbi_genomes = glob.glob('/Volumes/TFL190831/NPOmix_round4_genomes/podp_ncbi/*')\n",
    "sal_genomes = glob.glob('/Volumes/TFL190831/NPOmix_round4_genomes/Salinispora_genomes_faa/*')\n",
    "\n",
    "for item in list(manual_genomes+ncbi_genomes+sal_genomes):\n",
    "    if os.path.basename(item) not in AS_list:\n",
    "        count += 1\n",
    "        cmd = 'cp %s /Volumes/TFL190831/genomes_to_antiSMASH/'%item\n",
    "#         subprocess.call(cmd,shell=True)\n",
    "    \n",
    "len(AS_list),count"
   ]
  },
  {
   "cell_type": "code",
   "execution_count": 55,
   "metadata": {
    "scrolled": true
   },
   "outputs": [
    {
     "data": {
      "text/plain": [
       "1052"
      ]
     },
     "execution_count": 55,
     "metadata": {},
     "output_type": "execute_result"
    }
   ],
   "source": [
    "481+571"
   ]
  },
  {
   "cell_type": "code",
   "execution_count": 56,
   "metadata": {},
   "outputs": [
    {
     "data": {
      "text/plain": [
       "'ERS4341364'"
      ]
     },
     "execution_count": 56,
     "metadata": {},
     "output_type": "execute_result"
    }
   ],
   "source": [
    "AS_list[0]"
   ]
  },
  {
   "cell_type": "markdown",
   "metadata": {},
   "source": [
    "## 1.10. Running antiSMASH\n",
    "\n",
    "```\n",
    "Ming will add code\n",
    "```"
   ]
  },
  {
   "cell_type": "markdown",
   "metadata": {},
   "source": [
    "## 1.11. Filtering links for (meta)genomes with antiSMASH and downloading LC-MS/MS (need update)"
   ]
  },
  {
   "cell_type": "code",
   "execution_count": 57,
   "metadata": {},
   "outputs": [
    {
     "name": "stdout",
     "output_type": "stream",
     "text": [
      "     868\r\n"
     ]
    }
   ],
   "source": [
    "!ls /Volumes/TFL190831/ming_output/antismash/ | wc -l"
   ]
  },
  {
   "cell_type": "code",
   "execution_count": 58,
   "metadata": {},
   "outputs": [
    {
     "name": "stdout",
     "output_type": "stream",
     "text": [
      "4896\n"
     ]
    }
   ],
   "source": [
    "updated_col = []\n",
    "\n",
    "for i,r in podp_merged_df.iterrows():\n",
    "    if r['New_NCBI_ID'] in AS_list:\n",
    "        updated_col.append('yes')\n",
    "    else:\n",
    "        if r['NCBI_ID'] in AS_list:\n",
    "            updated_col.append('yes')\n",
    "        else:\n",
    "            updated_col.append('no')\n",
    "        \n",
    "print(len(updated_col))"
   ]
  },
  {
   "cell_type": "code",
   "execution_count": 59,
   "metadata": {},
   "outputs": [],
   "source": [
    "podp_merged_df['Downloaded'] = updated_col\n",
    "podp_final_df = podp_merged_df[podp_merged_df['Downloaded'] == 'yes']\n",
    "podp_final_df = podp_final_df.reset_index(drop=True)\n",
    "# podp_final_df.to_csv('./outputs/podp_final_df-round3-210316.tsv',sep='\\t')"
   ]
  },
  {
   "cell_type": "code",
   "execution_count": 60,
   "metadata": {},
   "outputs": [
    {
     "data": {
      "text/html": [
       "<div>\n",
       "<style scoped>\n",
       "    .dataframe tbody tr th:only-of-type {\n",
       "        vertical-align: middle;\n",
       "    }\n",
       "\n",
       "    .dataframe tbody tr th {\n",
       "        vertical-align: top;\n",
       "    }\n",
       "\n",
       "    .dataframe thead th {\n",
       "        text-align: right;\n",
       "    }\n",
       "</style>\n",
       "<table border=\"1\" class=\"dataframe\">\n",
       "  <thead>\n",
       "    <tr style=\"text-align: right;\">\n",
       "      <th></th>\n",
       "      <th>NCBI_ID</th>\n",
       "      <th>Database</th>\n",
       "      <th>BioSample</th>\n",
       "      <th>LCMS_file</th>\n",
       "      <th>Genome_label</th>\n",
       "      <th>Method</th>\n",
       "      <th>New_NCBI_ID</th>\n",
       "      <th>Downloaded</th>\n",
       "    </tr>\n",
       "  </thead>\n",
       "  <tbody>\n",
       "    <tr>\n",
       "      <th>0</th>\n",
       "      <td>VIKW01</td>\n",
       "      <td>GenBank_accession</td>\n",
       "      <td>SAMN12084250</td>\n",
       "      <td>ftp://massive.ucsd.edu/MSV000084950/peak/04022...</td>\n",
       "      <td>Anabaena sp. UHCC 0204</td>\n",
       "      <td>genome</td>\n",
       "      <td>GCA_009711975.1</td>\n",
       "      <td>yes</td>\n",
       "    </tr>\n",
       "    <tr>\n",
       "      <th>1</th>\n",
       "      <td>VILD01</td>\n",
       "      <td>GenBank_accession</td>\n",
       "      <td>SAMN12084370</td>\n",
       "      <td>ftp://massive.ucsd.edu/MSV000084950/peak/04022...</td>\n",
       "      <td>Anabaena sp. UHCC 0253</td>\n",
       "      <td>genome</td>\n",
       "      <td>GCA_009712085.1</td>\n",
       "      <td>yes</td>\n",
       "    </tr>\n",
       "    <tr>\n",
       "      <th>2</th>\n",
       "      <td>VILE01</td>\n",
       "      <td>GenBank_accession</td>\n",
       "      <td>SAMN12084395</td>\n",
       "      <td>ftp://massive.ucsd.edu/MSV000084950/peak/04022...</td>\n",
       "      <td>Dolichospermum planctonicum UHCC 0167</td>\n",
       "      <td>genome</td>\n",
       "      <td>GCA_009712075.1</td>\n",
       "      <td>yes</td>\n",
       "    </tr>\n",
       "    <tr>\n",
       "      <th>3</th>\n",
       "      <td>VILF01</td>\n",
       "      <td>GenBank_accession</td>\n",
       "      <td>SAMN12084379</td>\n",
       "      <td>ftp://massive.ucsd.edu/MSV000084950/peak/04022...</td>\n",
       "      <td>Dolichospermum flos-aquae UHCC 0037</td>\n",
       "      <td>genome</td>\n",
       "      <td>GCA_009712125.1</td>\n",
       "      <td>yes</td>\n",
       "    </tr>\n",
       "    <tr>\n",
       "      <th>4</th>\n",
       "      <td>VIKX01</td>\n",
       "      <td>GenBank_accession</td>\n",
       "      <td>SAMN12084251</td>\n",
       "      <td>ftp://massive.ucsd.edu/MSV000084950/peak/04022...</td>\n",
       "      <td>Dolichospermum sp. UHCC 0259</td>\n",
       "      <td>genome</td>\n",
       "      <td>GCA_009711935.1</td>\n",
       "      <td>yes</td>\n",
       "    </tr>\n",
       "    <tr>\n",
       "      <th>...</th>\n",
       "      <td>...</td>\n",
       "      <td>...</td>\n",
       "      <td>...</td>\n",
       "      <td>...</td>\n",
       "      <td>...</td>\n",
       "      <td>...</td>\n",
       "      <td>...</td>\n",
       "      <td>...</td>\n",
       "    </tr>\n",
       "    <tr>\n",
       "      <th>604</th>\n",
       "      <td>ERS4356320</td>\n",
       "      <td>ENA_NCBI_accession</td>\n",
       "      <td>ERS4356320</td>\n",
       "      <td>ftp://massive.ucsd.edu/MSV000083302/peak/mzxml...</td>\n",
       "      <td>ERS4356320</td>\n",
       "      <td>metagenome</td>\n",
       "      <td>ERS4356320</td>\n",
       "      <td>yes</td>\n",
       "    </tr>\n",
       "    <tr>\n",
       "      <th>605</th>\n",
       "      <td>ERS4356321</td>\n",
       "      <td>ENA_NCBI_accession</td>\n",
       "      <td>ERS4356321</td>\n",
       "      <td>ftp://massive.ucsd.edu/MSV000083302/peak/mzxml...</td>\n",
       "      <td>ERS4356321</td>\n",
       "      <td>metagenome</td>\n",
       "      <td>ERS4356321</td>\n",
       "      <td>yes</td>\n",
       "    </tr>\n",
       "    <tr>\n",
       "      <th>606</th>\n",
       "      <td>ERS4356322</td>\n",
       "      <td>ENA_NCBI_accession</td>\n",
       "      <td>ERS4356322</td>\n",
       "      <td>ftp://massive.ucsd.edu/MSV000083302/peak/mzxml...</td>\n",
       "      <td>ERS4356322</td>\n",
       "      <td>metagenome</td>\n",
       "      <td>ERS4356322</td>\n",
       "      <td>yes</td>\n",
       "    </tr>\n",
       "    <tr>\n",
       "      <th>607</th>\n",
       "      <td>ERS4356323</td>\n",
       "      <td>ENA_NCBI_accession</td>\n",
       "      <td>ERS4356323</td>\n",
       "      <td>ftp://massive.ucsd.edu/MSV000083302/peak/mzxml...</td>\n",
       "      <td>ERS4356323</td>\n",
       "      <td>metagenome</td>\n",
       "      <td>ERS4356323</td>\n",
       "      <td>yes</td>\n",
       "    </tr>\n",
       "    <tr>\n",
       "      <th>608</th>\n",
       "      <td>ERS4356324</td>\n",
       "      <td>ENA_NCBI_accession</td>\n",
       "      <td>ERS4356324</td>\n",
       "      <td>ftp://massive.ucsd.edu/MSV000083302/peak/mzxml...</td>\n",
       "      <td>ERS4356324</td>\n",
       "      <td>metagenome</td>\n",
       "      <td>ERS4356324</td>\n",
       "      <td>yes</td>\n",
       "    </tr>\n",
       "  </tbody>\n",
       "</table>\n",
       "<p>609 rows × 8 columns</p>\n",
       "</div>"
      ],
      "text/plain": [
       "        NCBI_ID            Database     BioSample  \\\n",
       "0        VIKW01   GenBank_accession  SAMN12084250   \n",
       "1        VILD01   GenBank_accession  SAMN12084370   \n",
       "2        VILE01   GenBank_accession  SAMN12084395   \n",
       "3        VILF01   GenBank_accession  SAMN12084379   \n",
       "4        VIKX01   GenBank_accession  SAMN12084251   \n",
       "..          ...                 ...           ...   \n",
       "604  ERS4356320  ENA_NCBI_accession    ERS4356320   \n",
       "605  ERS4356321  ENA_NCBI_accession    ERS4356321   \n",
       "606  ERS4356322  ENA_NCBI_accession    ERS4356322   \n",
       "607  ERS4356323  ENA_NCBI_accession    ERS4356323   \n",
       "608  ERS4356324  ENA_NCBI_accession    ERS4356324   \n",
       "\n",
       "                                             LCMS_file  \\\n",
       "0    ftp://massive.ucsd.edu/MSV000084950/peak/04022...   \n",
       "1    ftp://massive.ucsd.edu/MSV000084950/peak/04022...   \n",
       "2    ftp://massive.ucsd.edu/MSV000084950/peak/04022...   \n",
       "3    ftp://massive.ucsd.edu/MSV000084950/peak/04022...   \n",
       "4    ftp://massive.ucsd.edu/MSV000084950/peak/04022...   \n",
       "..                                                 ...   \n",
       "604  ftp://massive.ucsd.edu/MSV000083302/peak/mzxml...   \n",
       "605  ftp://massive.ucsd.edu/MSV000083302/peak/mzxml...   \n",
       "606  ftp://massive.ucsd.edu/MSV000083302/peak/mzxml...   \n",
       "607  ftp://massive.ucsd.edu/MSV000083302/peak/mzxml...   \n",
       "608  ftp://massive.ucsd.edu/MSV000083302/peak/mzxml...   \n",
       "\n",
       "                              Genome_label      Method      New_NCBI_ID  \\\n",
       "0                   Anabaena sp. UHCC 0204      genome  GCA_009711975.1   \n",
       "1                   Anabaena sp. UHCC 0253      genome  GCA_009712085.1   \n",
       "2    Dolichospermum planctonicum UHCC 0167      genome  GCA_009712075.1   \n",
       "3      Dolichospermum flos-aquae UHCC 0037      genome  GCA_009712125.1   \n",
       "4             Dolichospermum sp. UHCC 0259      genome  GCA_009711935.1   \n",
       "..                                     ...         ...              ...   \n",
       "604                             ERS4356320  metagenome       ERS4356320   \n",
       "605                             ERS4356321  metagenome       ERS4356321   \n",
       "606                             ERS4356322  metagenome       ERS4356322   \n",
       "607                             ERS4356323  metagenome       ERS4356323   \n",
       "608                             ERS4356324  metagenome       ERS4356324   \n",
       "\n",
       "    Downloaded  \n",
       "0          yes  \n",
       "1          yes  \n",
       "2          yes  \n",
       "3          yes  \n",
       "4          yes  \n",
       "..         ...  \n",
       "604        yes  \n",
       "605        yes  \n",
       "606        yes  \n",
       "607        yes  \n",
       "608        yes  \n",
       "\n",
       "[609 rows x 8 columns]"
      ]
     },
     "execution_count": 60,
     "metadata": {},
     "output_type": "execute_result"
    }
   ],
   "source": [
    "podp_final_df"
   ]
  },
  {
   "cell_type": "code",
   "execution_count": 61,
   "metadata": {},
   "outputs": [
    {
     "data": {
      "text/plain": [
       "(868, 259)"
      ]
     },
     "execution_count": 61,
     "metadata": {},
     "output_type": "execute_result"
    }
   ],
   "source": [
    "len(AS_list),len(AS_list)-len(podp_final_df) ### these 259 files are from the previous round"
   ]
  },
  {
   "cell_type": "code",
   "execution_count": 62,
   "metadata": {},
   "outputs": [
    {
     "data": {
      "text/plain": [
       "((4896, 8), (609, 8))"
      ]
     },
     "execution_count": 62,
     "metadata": {},
     "output_type": "execute_result"
    }
   ],
   "source": [
    "podp_merged_df.shape,podp_final_df.shape"
   ]
  },
  {
   "cell_type": "code",
   "execution_count": 63,
   "metadata": {},
   "outputs": [
    {
     "data": {
      "text/plain": [
       "609"
      ]
     },
     "execution_count": 63,
     "metadata": {},
     "output_type": "execute_result"
    }
   ],
   "source": [
    "rows_wo_file,seen,commands = [],[],[]\n",
    "\n",
    "for i,r in podp_final_df.iterrows():\n",
    "    genomeID = podp_final_df['New_NCBI_ID'].loc[i]\n",
    "    seen.append(genomeID)\n",
    "    file_count = seen.count(genomeID)\n",
    "    extension = podp_final_df['LCMS_file'].loc[i].rsplit('.', 1)[1]\n",
    "    cmd = 'wget -O %s %s'%(genomeID+'.'+extension+'.'+str(file_count),podp_final_df['LCMS_file'].loc[i])\n",
    "    commands.append(cmd)\n",
    "\n",
    "len(commands)"
   ]
  },
  {
   "cell_type": "code",
   "execution_count": 64,
   "metadata": {},
   "outputs": [],
   "source": [
    "### only run once\n",
    "\n",
    "# with open('./temp_files/PODP_LCMS_list_commands-round3.txt', \"w\") as output:\n",
    "#     writer = csv.writer(output, lineterminator='\\n')\n",
    "#     for val in commands:\n",
    "#         writer.writerow([val])"
   ]
  },
  {
   "cell_type": "markdown",
   "metadata": {},
   "source": [
    "```bash\n",
    "mkdir /Volumes/TFL190831/podp_LCMS\n",
    "\n",
    "cd /Volumes/TFL190831/podp_LCMS\n",
    "\n",
    "sh PODP_LCMS_list_commands-round3.txt\n",
    "```"
   ]
  },
  {
   "cell_type": "code",
   "execution_count": 65,
   "metadata": {},
   "outputs": [
    {
     "data": {
      "text/plain": [
       "(1716, 609)"
      ]
     },
     "execution_count": 65,
     "metadata": {},
     "output_type": "execute_result"
    }
   ],
   "source": [
    "downloaded_LCMS = glob.glob(\"/Volumes/TFL190831/podp_LCMS/*\")\n",
    "\n",
    "len(downloaded_LCMS),len(commands)"
   ]
  }
 ],
 "metadata": {
  "kernelspec": {
   "display_name": "Python 3",
   "language": "python",
   "name": "python3"
  },
  "language_info": {
   "codemirror_mode": {
    "name": "ipython",
    "version": 3
   },
   "file_extension": ".py",
   "mimetype": "text/x-python",
   "name": "python",
   "nbconvert_exporter": "python",
   "pygments_lexer": "ipython3",
   "version": "3.7.6"
  }
 },
 "nbformat": 4,
 "nbformat_minor": 4
}
